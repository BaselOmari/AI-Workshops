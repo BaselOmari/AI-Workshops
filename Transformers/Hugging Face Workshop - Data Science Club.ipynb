{
  "nbformat": 4,
  "nbformat_minor": 0,
  "metadata": {
    "colab": {
      "provenance": [],
      "gpuType": "T4",
      "collapsed_sections": [
        "rAljolPLwrWc"
      ]
    },
    "kernelspec": {
      "name": "python3",
      "display_name": "Python 3"
    },
    "language_info": {
      "name": "python"
    },
    "widgets": {
      "application/vnd.jupyter.widget-state+json": {
        "d8f77e23e1b74d0e86c2669f4c7c75d0": {
          "model_module": "@jupyter-widgets/controls",
          "model_name": "HBoxModel",
          "model_module_version": "1.5.0",
          "state": {
            "_dom_classes": [],
            "_model_module": "@jupyter-widgets/controls",
            "_model_module_version": "1.5.0",
            "_model_name": "HBoxModel",
            "_view_count": null,
            "_view_module": "@jupyter-widgets/controls",
            "_view_module_version": "1.5.0",
            "_view_name": "HBoxView",
            "box_style": "",
            "children": [
              "IPY_MODEL_c23741de258c475f9029c695957669e3",
              "IPY_MODEL_7390baf99ac8483395c4c423c0f65a9a",
              "IPY_MODEL_ad8c842586074d0488d456fac420641a"
            ],
            "layout": "IPY_MODEL_f2ac7ac319b14fdfb10dcaf80db4fba9"
          }
        },
        "c23741de258c475f9029c695957669e3": {
          "model_module": "@jupyter-widgets/controls",
          "model_name": "HTMLModel",
          "model_module_version": "1.5.0",
          "state": {
            "_dom_classes": [],
            "_model_module": "@jupyter-widgets/controls",
            "_model_module_version": "1.5.0",
            "_model_name": "HTMLModel",
            "_view_count": null,
            "_view_module": "@jupyter-widgets/controls",
            "_view_module_version": "1.5.0",
            "_view_name": "HTMLView",
            "description": "",
            "description_tooltip": null,
            "layout": "IPY_MODEL_714d7a0b89ae4adf9d4e1ae4ef788698",
            "placeholder": "​",
            "style": "IPY_MODEL_311dacb7558444baafc9ae39de0358b3",
            "value": "100%"
          }
        },
        "7390baf99ac8483395c4c423c0f65a9a": {
          "model_module": "@jupyter-widgets/controls",
          "model_name": "FloatProgressModel",
          "model_module_version": "1.5.0",
          "state": {
            "_dom_classes": [],
            "_model_module": "@jupyter-widgets/controls",
            "_model_module_version": "1.5.0",
            "_model_name": "FloatProgressModel",
            "_view_count": null,
            "_view_module": "@jupyter-widgets/controls",
            "_view_module_version": "1.5.0",
            "_view_name": "ProgressView",
            "bar_style": "success",
            "description": "",
            "description_tooltip": null,
            "layout": "IPY_MODEL_3013ee89a5c24f8288ed52eeb45900b8",
            "max": 3,
            "min": 0,
            "orientation": "horizontal",
            "style": "IPY_MODEL_9c530a2751624a9188f7a9706f34035b",
            "value": 3
          }
        },
        "ad8c842586074d0488d456fac420641a": {
          "model_module": "@jupyter-widgets/controls",
          "model_name": "HTMLModel",
          "model_module_version": "1.5.0",
          "state": {
            "_dom_classes": [],
            "_model_module": "@jupyter-widgets/controls",
            "_model_module_version": "1.5.0",
            "_model_name": "HTMLModel",
            "_view_count": null,
            "_view_module": "@jupyter-widgets/controls",
            "_view_module_version": "1.5.0",
            "_view_name": "HTMLView",
            "description": "",
            "description_tooltip": null,
            "layout": "IPY_MODEL_e9bab1bb960e478185f56c7ea97d8fd1",
            "placeholder": "​",
            "style": "IPY_MODEL_52ac4bfd700c4a25be3e2f00421e0aea",
            "value": " 3/3 [00:00&lt;00:00, 85.73it/s]"
          }
        },
        "f2ac7ac319b14fdfb10dcaf80db4fba9": {
          "model_module": "@jupyter-widgets/base",
          "model_name": "LayoutModel",
          "model_module_version": "1.2.0",
          "state": {
            "_model_module": "@jupyter-widgets/base",
            "_model_module_version": "1.2.0",
            "_model_name": "LayoutModel",
            "_view_count": null,
            "_view_module": "@jupyter-widgets/base",
            "_view_module_version": "1.2.0",
            "_view_name": "LayoutView",
            "align_content": null,
            "align_items": null,
            "align_self": null,
            "border": null,
            "bottom": null,
            "display": null,
            "flex": null,
            "flex_flow": null,
            "grid_area": null,
            "grid_auto_columns": null,
            "grid_auto_flow": null,
            "grid_auto_rows": null,
            "grid_column": null,
            "grid_gap": null,
            "grid_row": null,
            "grid_template_areas": null,
            "grid_template_columns": null,
            "grid_template_rows": null,
            "height": null,
            "justify_content": null,
            "justify_items": null,
            "left": null,
            "margin": null,
            "max_height": null,
            "max_width": null,
            "min_height": null,
            "min_width": null,
            "object_fit": null,
            "object_position": null,
            "order": null,
            "overflow": null,
            "overflow_x": null,
            "overflow_y": null,
            "padding": null,
            "right": null,
            "top": null,
            "visibility": null,
            "width": null
          }
        },
        "714d7a0b89ae4adf9d4e1ae4ef788698": {
          "model_module": "@jupyter-widgets/base",
          "model_name": "LayoutModel",
          "model_module_version": "1.2.0",
          "state": {
            "_model_module": "@jupyter-widgets/base",
            "_model_module_version": "1.2.0",
            "_model_name": "LayoutModel",
            "_view_count": null,
            "_view_module": "@jupyter-widgets/base",
            "_view_module_version": "1.2.0",
            "_view_name": "LayoutView",
            "align_content": null,
            "align_items": null,
            "align_self": null,
            "border": null,
            "bottom": null,
            "display": null,
            "flex": null,
            "flex_flow": null,
            "grid_area": null,
            "grid_auto_columns": null,
            "grid_auto_flow": null,
            "grid_auto_rows": null,
            "grid_column": null,
            "grid_gap": null,
            "grid_row": null,
            "grid_template_areas": null,
            "grid_template_columns": null,
            "grid_template_rows": null,
            "height": null,
            "justify_content": null,
            "justify_items": null,
            "left": null,
            "margin": null,
            "max_height": null,
            "max_width": null,
            "min_height": null,
            "min_width": null,
            "object_fit": null,
            "object_position": null,
            "order": null,
            "overflow": null,
            "overflow_x": null,
            "overflow_y": null,
            "padding": null,
            "right": null,
            "top": null,
            "visibility": null,
            "width": null
          }
        },
        "311dacb7558444baafc9ae39de0358b3": {
          "model_module": "@jupyter-widgets/controls",
          "model_name": "DescriptionStyleModel",
          "model_module_version": "1.5.0",
          "state": {
            "_model_module": "@jupyter-widgets/controls",
            "_model_module_version": "1.5.0",
            "_model_name": "DescriptionStyleModel",
            "_view_count": null,
            "_view_module": "@jupyter-widgets/base",
            "_view_module_version": "1.2.0",
            "_view_name": "StyleView",
            "description_width": ""
          }
        },
        "3013ee89a5c24f8288ed52eeb45900b8": {
          "model_module": "@jupyter-widgets/base",
          "model_name": "LayoutModel",
          "model_module_version": "1.2.0",
          "state": {
            "_model_module": "@jupyter-widgets/base",
            "_model_module_version": "1.2.0",
            "_model_name": "LayoutModel",
            "_view_count": null,
            "_view_module": "@jupyter-widgets/base",
            "_view_module_version": "1.2.0",
            "_view_name": "LayoutView",
            "align_content": null,
            "align_items": null,
            "align_self": null,
            "border": null,
            "bottom": null,
            "display": null,
            "flex": null,
            "flex_flow": null,
            "grid_area": null,
            "grid_auto_columns": null,
            "grid_auto_flow": null,
            "grid_auto_rows": null,
            "grid_column": null,
            "grid_gap": null,
            "grid_row": null,
            "grid_template_areas": null,
            "grid_template_columns": null,
            "grid_template_rows": null,
            "height": null,
            "justify_content": null,
            "justify_items": null,
            "left": null,
            "margin": null,
            "max_height": null,
            "max_width": null,
            "min_height": null,
            "min_width": null,
            "object_fit": null,
            "object_position": null,
            "order": null,
            "overflow": null,
            "overflow_x": null,
            "overflow_y": null,
            "padding": null,
            "right": null,
            "top": null,
            "visibility": null,
            "width": null
          }
        },
        "9c530a2751624a9188f7a9706f34035b": {
          "model_module": "@jupyter-widgets/controls",
          "model_name": "ProgressStyleModel",
          "model_module_version": "1.5.0",
          "state": {
            "_model_module": "@jupyter-widgets/controls",
            "_model_module_version": "1.5.0",
            "_model_name": "ProgressStyleModel",
            "_view_count": null,
            "_view_module": "@jupyter-widgets/base",
            "_view_module_version": "1.2.0",
            "_view_name": "StyleView",
            "bar_color": null,
            "description_width": ""
          }
        },
        "e9bab1bb960e478185f56c7ea97d8fd1": {
          "model_module": "@jupyter-widgets/base",
          "model_name": "LayoutModel",
          "model_module_version": "1.2.0",
          "state": {
            "_model_module": "@jupyter-widgets/base",
            "_model_module_version": "1.2.0",
            "_model_name": "LayoutModel",
            "_view_count": null,
            "_view_module": "@jupyter-widgets/base",
            "_view_module_version": "1.2.0",
            "_view_name": "LayoutView",
            "align_content": null,
            "align_items": null,
            "align_self": null,
            "border": null,
            "bottom": null,
            "display": null,
            "flex": null,
            "flex_flow": null,
            "grid_area": null,
            "grid_auto_columns": null,
            "grid_auto_flow": null,
            "grid_auto_rows": null,
            "grid_column": null,
            "grid_gap": null,
            "grid_row": null,
            "grid_template_areas": null,
            "grid_template_columns": null,
            "grid_template_rows": null,
            "height": null,
            "justify_content": null,
            "justify_items": null,
            "left": null,
            "margin": null,
            "max_height": null,
            "max_width": null,
            "min_height": null,
            "min_width": null,
            "object_fit": null,
            "object_position": null,
            "order": null,
            "overflow": null,
            "overflow_x": null,
            "overflow_y": null,
            "padding": null,
            "right": null,
            "top": null,
            "visibility": null,
            "width": null
          }
        },
        "52ac4bfd700c4a25be3e2f00421e0aea": {
          "model_module": "@jupyter-widgets/controls",
          "model_name": "DescriptionStyleModel",
          "model_module_version": "1.5.0",
          "state": {
            "_model_module": "@jupyter-widgets/controls",
            "_model_module_version": "1.5.0",
            "_model_name": "DescriptionStyleModel",
            "_view_count": null,
            "_view_module": "@jupyter-widgets/base",
            "_view_module_version": "1.2.0",
            "_view_name": "StyleView",
            "description_width": ""
          }
        },
        "1272e9b6e03f464c893b3a396cc2776c": {
          "model_module": "@jupyter-widgets/controls",
          "model_name": "HBoxModel",
          "model_module_version": "1.5.0",
          "state": {
            "_dom_classes": [],
            "_model_module": "@jupyter-widgets/controls",
            "_model_module_version": "1.5.0",
            "_model_name": "HBoxModel",
            "_view_count": null,
            "_view_module": "@jupyter-widgets/controls",
            "_view_module_version": "1.5.0",
            "_view_name": "HBoxView",
            "box_style": "",
            "children": [
              "IPY_MODEL_7639a65a61d049b6873f947dbcdc4f38",
              "IPY_MODEL_b005b6654cdb4ccb92f1d6a058e35ab2",
              "IPY_MODEL_fd07704ff6b74520a2582f2fa6777c41"
            ],
            "layout": "IPY_MODEL_2f671add779c44b9ab02d6bc5fdf9d5e"
          }
        },
        "7639a65a61d049b6873f947dbcdc4f38": {
          "model_module": "@jupyter-widgets/controls",
          "model_name": "HTMLModel",
          "model_module_version": "1.5.0",
          "state": {
            "_dom_classes": [],
            "_model_module": "@jupyter-widgets/controls",
            "_model_module_version": "1.5.0",
            "_model_name": "HTMLModel",
            "_view_count": null,
            "_view_module": "@jupyter-widgets/controls",
            "_view_module_version": "1.5.0",
            "_view_name": "HTMLView",
            "description": "",
            "description_tooltip": null,
            "layout": "IPY_MODEL_827d92dd17cc4698a6b00fef863d34d1",
            "placeholder": "​",
            "style": "IPY_MODEL_56cc47abd0e24a2583f05c5aab92432d",
            "value": "Map: 100%"
          }
        },
        "b005b6654cdb4ccb92f1d6a058e35ab2": {
          "model_module": "@jupyter-widgets/controls",
          "model_name": "FloatProgressModel",
          "model_module_version": "1.5.0",
          "state": {
            "_dom_classes": [],
            "_model_module": "@jupyter-widgets/controls",
            "_model_module_version": "1.5.0",
            "_model_name": "FloatProgressModel",
            "_view_count": null,
            "_view_module": "@jupyter-widgets/controls",
            "_view_module_version": "1.5.0",
            "_view_name": "ProgressView",
            "bar_style": "",
            "description": "",
            "description_tooltip": null,
            "layout": "IPY_MODEL_ac6a72d0de9c4c868f583831e95f4180",
            "max": 1,
            "min": 0,
            "orientation": "horizontal",
            "style": "IPY_MODEL_bc02bc381ed742a09054d6e577c90998",
            "value": 1
          }
        },
        "fd07704ff6b74520a2582f2fa6777c41": {
          "model_module": "@jupyter-widgets/controls",
          "model_name": "HTMLModel",
          "model_module_version": "1.5.0",
          "state": {
            "_dom_classes": [],
            "_model_module": "@jupyter-widgets/controls",
            "_model_module_version": "1.5.0",
            "_model_name": "HTMLModel",
            "_view_count": null,
            "_view_module": "@jupyter-widgets/controls",
            "_view_module_version": "1.5.0",
            "_view_name": "HTMLView",
            "description": "",
            "description_tooltip": null,
            "layout": "IPY_MODEL_59fac9ac297541fe828835cdf219eae4",
            "placeholder": "​",
            "style": "IPY_MODEL_50a3860846644978a54f40d10ed7520d",
            "value": " 1/1 [00:00&lt;00:00,  1.58 examples/s]"
          }
        },
        "2f671add779c44b9ab02d6bc5fdf9d5e": {
          "model_module": "@jupyter-widgets/base",
          "model_name": "LayoutModel",
          "model_module_version": "1.2.0",
          "state": {
            "_model_module": "@jupyter-widgets/base",
            "_model_module_version": "1.2.0",
            "_model_name": "LayoutModel",
            "_view_count": null,
            "_view_module": "@jupyter-widgets/base",
            "_view_module_version": "1.2.0",
            "_view_name": "LayoutView",
            "align_content": null,
            "align_items": null,
            "align_self": null,
            "border": null,
            "bottom": null,
            "display": null,
            "flex": null,
            "flex_flow": null,
            "grid_area": null,
            "grid_auto_columns": null,
            "grid_auto_flow": null,
            "grid_auto_rows": null,
            "grid_column": null,
            "grid_gap": null,
            "grid_row": null,
            "grid_template_areas": null,
            "grid_template_columns": null,
            "grid_template_rows": null,
            "height": null,
            "justify_content": null,
            "justify_items": null,
            "left": null,
            "margin": null,
            "max_height": null,
            "max_width": null,
            "min_height": null,
            "min_width": null,
            "object_fit": null,
            "object_position": null,
            "order": null,
            "overflow": null,
            "overflow_x": null,
            "overflow_y": null,
            "padding": null,
            "right": null,
            "top": null,
            "visibility": "hidden",
            "width": null
          }
        },
        "827d92dd17cc4698a6b00fef863d34d1": {
          "model_module": "@jupyter-widgets/base",
          "model_name": "LayoutModel",
          "model_module_version": "1.2.0",
          "state": {
            "_model_module": "@jupyter-widgets/base",
            "_model_module_version": "1.2.0",
            "_model_name": "LayoutModel",
            "_view_count": null,
            "_view_module": "@jupyter-widgets/base",
            "_view_module_version": "1.2.0",
            "_view_name": "LayoutView",
            "align_content": null,
            "align_items": null,
            "align_self": null,
            "border": null,
            "bottom": null,
            "display": null,
            "flex": null,
            "flex_flow": null,
            "grid_area": null,
            "grid_auto_columns": null,
            "grid_auto_flow": null,
            "grid_auto_rows": null,
            "grid_column": null,
            "grid_gap": null,
            "grid_row": null,
            "grid_template_areas": null,
            "grid_template_columns": null,
            "grid_template_rows": null,
            "height": null,
            "justify_content": null,
            "justify_items": null,
            "left": null,
            "margin": null,
            "max_height": null,
            "max_width": null,
            "min_height": null,
            "min_width": null,
            "object_fit": null,
            "object_position": null,
            "order": null,
            "overflow": null,
            "overflow_x": null,
            "overflow_y": null,
            "padding": null,
            "right": null,
            "top": null,
            "visibility": null,
            "width": null
          }
        },
        "56cc47abd0e24a2583f05c5aab92432d": {
          "model_module": "@jupyter-widgets/controls",
          "model_name": "DescriptionStyleModel",
          "model_module_version": "1.5.0",
          "state": {
            "_model_module": "@jupyter-widgets/controls",
            "_model_module_version": "1.5.0",
            "_model_name": "DescriptionStyleModel",
            "_view_count": null,
            "_view_module": "@jupyter-widgets/base",
            "_view_module_version": "1.2.0",
            "_view_name": "StyleView",
            "description_width": ""
          }
        },
        "ac6a72d0de9c4c868f583831e95f4180": {
          "model_module": "@jupyter-widgets/base",
          "model_name": "LayoutModel",
          "model_module_version": "1.2.0",
          "state": {
            "_model_module": "@jupyter-widgets/base",
            "_model_module_version": "1.2.0",
            "_model_name": "LayoutModel",
            "_view_count": null,
            "_view_module": "@jupyter-widgets/base",
            "_view_module_version": "1.2.0",
            "_view_name": "LayoutView",
            "align_content": null,
            "align_items": null,
            "align_self": null,
            "border": null,
            "bottom": null,
            "display": null,
            "flex": null,
            "flex_flow": null,
            "grid_area": null,
            "grid_auto_columns": null,
            "grid_auto_flow": null,
            "grid_auto_rows": null,
            "grid_column": null,
            "grid_gap": null,
            "grid_row": null,
            "grid_template_areas": null,
            "grid_template_columns": null,
            "grid_template_rows": null,
            "height": null,
            "justify_content": null,
            "justify_items": null,
            "left": null,
            "margin": null,
            "max_height": null,
            "max_width": null,
            "min_height": null,
            "min_width": null,
            "object_fit": null,
            "object_position": null,
            "order": null,
            "overflow": null,
            "overflow_x": null,
            "overflow_y": null,
            "padding": null,
            "right": null,
            "top": null,
            "visibility": null,
            "width": null
          }
        },
        "bc02bc381ed742a09054d6e577c90998": {
          "model_module": "@jupyter-widgets/controls",
          "model_name": "ProgressStyleModel",
          "model_module_version": "1.5.0",
          "state": {
            "_model_module": "@jupyter-widgets/controls",
            "_model_module_version": "1.5.0",
            "_model_name": "ProgressStyleModel",
            "_view_count": null,
            "_view_module": "@jupyter-widgets/base",
            "_view_module_version": "1.2.0",
            "_view_name": "StyleView",
            "bar_color": null,
            "description_width": ""
          }
        },
        "59fac9ac297541fe828835cdf219eae4": {
          "model_module": "@jupyter-widgets/base",
          "model_name": "LayoutModel",
          "model_module_version": "1.2.0",
          "state": {
            "_model_module": "@jupyter-widgets/base",
            "_model_module_version": "1.2.0",
            "_model_name": "LayoutModel",
            "_view_count": null,
            "_view_module": "@jupyter-widgets/base",
            "_view_module_version": "1.2.0",
            "_view_name": "LayoutView",
            "align_content": null,
            "align_items": null,
            "align_self": null,
            "border": null,
            "bottom": null,
            "display": null,
            "flex": null,
            "flex_flow": null,
            "grid_area": null,
            "grid_auto_columns": null,
            "grid_auto_flow": null,
            "grid_auto_rows": null,
            "grid_column": null,
            "grid_gap": null,
            "grid_row": null,
            "grid_template_areas": null,
            "grid_template_columns": null,
            "grid_template_rows": null,
            "height": null,
            "justify_content": null,
            "justify_items": null,
            "left": null,
            "margin": null,
            "max_height": null,
            "max_width": null,
            "min_height": null,
            "min_width": null,
            "object_fit": null,
            "object_position": null,
            "order": null,
            "overflow": null,
            "overflow_x": null,
            "overflow_y": null,
            "padding": null,
            "right": null,
            "top": null,
            "visibility": null,
            "width": null
          }
        },
        "50a3860846644978a54f40d10ed7520d": {
          "model_module": "@jupyter-widgets/controls",
          "model_name": "DescriptionStyleModel",
          "model_module_version": "1.5.0",
          "state": {
            "_model_module": "@jupyter-widgets/controls",
            "_model_module_version": "1.5.0",
            "_model_name": "DescriptionStyleModel",
            "_view_count": null,
            "_view_module": "@jupyter-widgets/base",
            "_view_module_version": "1.2.0",
            "_view_name": "StyleView",
            "description_width": ""
          }
        },
        "433bdc8cd5e04eed9d5d63fdb66c4257": {
          "model_module": "@jupyter-widgets/controls",
          "model_name": "HBoxModel",
          "model_module_version": "1.5.0",
          "state": {
            "_dom_classes": [],
            "_model_module": "@jupyter-widgets/controls",
            "_model_module_version": "1.5.0",
            "_model_name": "HBoxModel",
            "_view_count": null,
            "_view_module": "@jupyter-widgets/controls",
            "_view_module_version": "1.5.0",
            "_view_name": "HBoxView",
            "box_style": "",
            "children": [
              "IPY_MODEL_221a600e7a654e558c888c67f96e67d1",
              "IPY_MODEL_d3a438743cc54090a273e102ca057474",
              "IPY_MODEL_5946cb05a57a48b5821eca488c00b55b"
            ],
            "layout": "IPY_MODEL_5e094fcb363242ebb9aa94a908d7b0c9"
          }
        },
        "221a600e7a654e558c888c67f96e67d1": {
          "model_module": "@jupyter-widgets/controls",
          "model_name": "HTMLModel",
          "model_module_version": "1.5.0",
          "state": {
            "_dom_classes": [],
            "_model_module": "@jupyter-widgets/controls",
            "_model_module_version": "1.5.0",
            "_model_name": "HTMLModel",
            "_view_count": null,
            "_view_module": "@jupyter-widgets/controls",
            "_view_module_version": "1.5.0",
            "_view_name": "HTMLView",
            "description": "",
            "description_tooltip": null,
            "layout": "IPY_MODEL_372b65bb5103456985bec9f046fc37ac",
            "placeholder": "​",
            "style": "IPY_MODEL_d285c3b28f0c40bea940abbe14df30e2",
            "value": "Map:   0%"
          }
        },
        "d3a438743cc54090a273e102ca057474": {
          "model_module": "@jupyter-widgets/controls",
          "model_name": "FloatProgressModel",
          "model_module_version": "1.5.0",
          "state": {
            "_dom_classes": [],
            "_model_module": "@jupyter-widgets/controls",
            "_model_module_version": "1.5.0",
            "_model_name": "FloatProgressModel",
            "_view_count": null,
            "_view_module": "@jupyter-widgets/controls",
            "_view_module_version": "1.5.0",
            "_view_name": "ProgressView",
            "bar_style": "",
            "description": "",
            "description_tooltip": null,
            "layout": "IPY_MODEL_0480787c8a8a4e4abc9fe5299122a445",
            "max": 1,
            "min": 0,
            "orientation": "horizontal",
            "style": "IPY_MODEL_4310188770a6491cab2aa1f66c866808",
            "value": 1
          }
        },
        "5946cb05a57a48b5821eca488c00b55b": {
          "model_module": "@jupyter-widgets/controls",
          "model_name": "HTMLModel",
          "model_module_version": "1.5.0",
          "state": {
            "_dom_classes": [],
            "_model_module": "@jupyter-widgets/controls",
            "_model_module_version": "1.5.0",
            "_model_name": "HTMLModel",
            "_view_count": null,
            "_view_module": "@jupyter-widgets/controls",
            "_view_module_version": "1.5.0",
            "_view_name": "HTMLView",
            "description": "",
            "description_tooltip": null,
            "layout": "IPY_MODEL_0b156b3da6594d6d977c895c3f1818d6",
            "placeholder": "​",
            "style": "IPY_MODEL_5aa79bfd9bf24eceb78800887ccaa516",
            "value": " 0/1 [00:00&lt;?, ? examples/s]"
          }
        },
        "5e094fcb363242ebb9aa94a908d7b0c9": {
          "model_module": "@jupyter-widgets/base",
          "model_name": "LayoutModel",
          "model_module_version": "1.2.0",
          "state": {
            "_model_module": "@jupyter-widgets/base",
            "_model_module_version": "1.2.0",
            "_model_name": "LayoutModel",
            "_view_count": null,
            "_view_module": "@jupyter-widgets/base",
            "_view_module_version": "1.2.0",
            "_view_name": "LayoutView",
            "align_content": null,
            "align_items": null,
            "align_self": null,
            "border": null,
            "bottom": null,
            "display": null,
            "flex": null,
            "flex_flow": null,
            "grid_area": null,
            "grid_auto_columns": null,
            "grid_auto_flow": null,
            "grid_auto_rows": null,
            "grid_column": null,
            "grid_gap": null,
            "grid_row": null,
            "grid_template_areas": null,
            "grid_template_columns": null,
            "grid_template_rows": null,
            "height": null,
            "justify_content": null,
            "justify_items": null,
            "left": null,
            "margin": null,
            "max_height": null,
            "max_width": null,
            "min_height": null,
            "min_width": null,
            "object_fit": null,
            "object_position": null,
            "order": null,
            "overflow": null,
            "overflow_x": null,
            "overflow_y": null,
            "padding": null,
            "right": null,
            "top": null,
            "visibility": "hidden",
            "width": null
          }
        },
        "372b65bb5103456985bec9f046fc37ac": {
          "model_module": "@jupyter-widgets/base",
          "model_name": "LayoutModel",
          "model_module_version": "1.2.0",
          "state": {
            "_model_module": "@jupyter-widgets/base",
            "_model_module_version": "1.2.0",
            "_model_name": "LayoutModel",
            "_view_count": null,
            "_view_module": "@jupyter-widgets/base",
            "_view_module_version": "1.2.0",
            "_view_name": "LayoutView",
            "align_content": null,
            "align_items": null,
            "align_self": null,
            "border": null,
            "bottom": null,
            "display": null,
            "flex": null,
            "flex_flow": null,
            "grid_area": null,
            "grid_auto_columns": null,
            "grid_auto_flow": null,
            "grid_auto_rows": null,
            "grid_column": null,
            "grid_gap": null,
            "grid_row": null,
            "grid_template_areas": null,
            "grid_template_columns": null,
            "grid_template_rows": null,
            "height": null,
            "justify_content": null,
            "justify_items": null,
            "left": null,
            "margin": null,
            "max_height": null,
            "max_width": null,
            "min_height": null,
            "min_width": null,
            "object_fit": null,
            "object_position": null,
            "order": null,
            "overflow": null,
            "overflow_x": null,
            "overflow_y": null,
            "padding": null,
            "right": null,
            "top": null,
            "visibility": null,
            "width": null
          }
        },
        "d285c3b28f0c40bea940abbe14df30e2": {
          "model_module": "@jupyter-widgets/controls",
          "model_name": "DescriptionStyleModel",
          "model_module_version": "1.5.0",
          "state": {
            "_model_module": "@jupyter-widgets/controls",
            "_model_module_version": "1.5.0",
            "_model_name": "DescriptionStyleModel",
            "_view_count": null,
            "_view_module": "@jupyter-widgets/base",
            "_view_module_version": "1.2.0",
            "_view_name": "StyleView",
            "description_width": ""
          }
        },
        "0480787c8a8a4e4abc9fe5299122a445": {
          "model_module": "@jupyter-widgets/base",
          "model_name": "LayoutModel",
          "model_module_version": "1.2.0",
          "state": {
            "_model_module": "@jupyter-widgets/base",
            "_model_module_version": "1.2.0",
            "_model_name": "LayoutModel",
            "_view_count": null,
            "_view_module": "@jupyter-widgets/base",
            "_view_module_version": "1.2.0",
            "_view_name": "LayoutView",
            "align_content": null,
            "align_items": null,
            "align_self": null,
            "border": null,
            "bottom": null,
            "display": null,
            "flex": null,
            "flex_flow": null,
            "grid_area": null,
            "grid_auto_columns": null,
            "grid_auto_flow": null,
            "grid_auto_rows": null,
            "grid_column": null,
            "grid_gap": null,
            "grid_row": null,
            "grid_template_areas": null,
            "grid_template_columns": null,
            "grid_template_rows": null,
            "height": null,
            "justify_content": null,
            "justify_items": null,
            "left": null,
            "margin": null,
            "max_height": null,
            "max_width": null,
            "min_height": null,
            "min_width": null,
            "object_fit": null,
            "object_position": null,
            "order": null,
            "overflow": null,
            "overflow_x": null,
            "overflow_y": null,
            "padding": null,
            "right": null,
            "top": null,
            "visibility": null,
            "width": null
          }
        },
        "4310188770a6491cab2aa1f66c866808": {
          "model_module": "@jupyter-widgets/controls",
          "model_name": "ProgressStyleModel",
          "model_module_version": "1.5.0",
          "state": {
            "_model_module": "@jupyter-widgets/controls",
            "_model_module_version": "1.5.0",
            "_model_name": "ProgressStyleModel",
            "_view_count": null,
            "_view_module": "@jupyter-widgets/base",
            "_view_module_version": "1.2.0",
            "_view_name": "StyleView",
            "bar_color": null,
            "description_width": ""
          }
        },
        "0b156b3da6594d6d977c895c3f1818d6": {
          "model_module": "@jupyter-widgets/base",
          "model_name": "LayoutModel",
          "model_module_version": "1.2.0",
          "state": {
            "_model_module": "@jupyter-widgets/base",
            "_model_module_version": "1.2.0",
            "_model_name": "LayoutModel",
            "_view_count": null,
            "_view_module": "@jupyter-widgets/base",
            "_view_module_version": "1.2.0",
            "_view_name": "LayoutView",
            "align_content": null,
            "align_items": null,
            "align_self": null,
            "border": null,
            "bottom": null,
            "display": null,
            "flex": null,
            "flex_flow": null,
            "grid_area": null,
            "grid_auto_columns": null,
            "grid_auto_flow": null,
            "grid_auto_rows": null,
            "grid_column": null,
            "grid_gap": null,
            "grid_row": null,
            "grid_template_areas": null,
            "grid_template_columns": null,
            "grid_template_rows": null,
            "height": null,
            "justify_content": null,
            "justify_items": null,
            "left": null,
            "margin": null,
            "max_height": null,
            "max_width": null,
            "min_height": null,
            "min_width": null,
            "object_fit": null,
            "object_position": null,
            "order": null,
            "overflow": null,
            "overflow_x": null,
            "overflow_y": null,
            "padding": null,
            "right": null,
            "top": null,
            "visibility": null,
            "width": null
          }
        },
        "5aa79bfd9bf24eceb78800887ccaa516": {
          "model_module": "@jupyter-widgets/controls",
          "model_name": "DescriptionStyleModel",
          "model_module_version": "1.5.0",
          "state": {
            "_model_module": "@jupyter-widgets/controls",
            "_model_module_version": "1.5.0",
            "_model_name": "DescriptionStyleModel",
            "_view_count": null,
            "_view_module": "@jupyter-widgets/base",
            "_view_module_version": "1.2.0",
            "_view_name": "StyleView",
            "description_width": ""
          }
        },
        "74b1c1930cd54e2d9c7c2d73c4eb58d2": {
          "model_module": "@jupyter-widgets/controls",
          "model_name": "HBoxModel",
          "model_module_version": "1.5.0",
          "state": {
            "_dom_classes": [],
            "_model_module": "@jupyter-widgets/controls",
            "_model_module_version": "1.5.0",
            "_model_name": "HBoxModel",
            "_view_count": null,
            "_view_module": "@jupyter-widgets/controls",
            "_view_module_version": "1.5.0",
            "_view_name": "HBoxView",
            "box_style": "",
            "children": [
              "IPY_MODEL_2029c2508ac146118d6d6f4d9c5b24b1",
              "IPY_MODEL_8856525b2b81485fb9a1f0e216d6d5e1",
              "IPY_MODEL_fd84e39606b14ac9b878793bec7ee1b3"
            ],
            "layout": "IPY_MODEL_28709592450c49108b53e587583c15ac"
          }
        },
        "2029c2508ac146118d6d6f4d9c5b24b1": {
          "model_module": "@jupyter-widgets/controls",
          "model_name": "HTMLModel",
          "model_module_version": "1.5.0",
          "state": {
            "_dom_classes": [],
            "_model_module": "@jupyter-widgets/controls",
            "_model_module_version": "1.5.0",
            "_model_name": "HTMLModel",
            "_view_count": null,
            "_view_module": "@jupyter-widgets/controls",
            "_view_module_version": "1.5.0",
            "_view_name": "HTMLView",
            "description": "",
            "description_tooltip": null,
            "layout": "IPY_MODEL_cc7d4b9af0e1490487a4856f287545d4",
            "placeholder": "​",
            "style": "IPY_MODEL_e9b34c0eb499474aaa60635a4e9784b8",
            "value": "Map:   0%"
          }
        },
        "8856525b2b81485fb9a1f0e216d6d5e1": {
          "model_module": "@jupyter-widgets/controls",
          "model_name": "FloatProgressModel",
          "model_module_version": "1.5.0",
          "state": {
            "_dom_classes": [],
            "_model_module": "@jupyter-widgets/controls",
            "_model_module_version": "1.5.0",
            "_model_name": "FloatProgressModel",
            "_view_count": null,
            "_view_module": "@jupyter-widgets/controls",
            "_view_module_version": "1.5.0",
            "_view_name": "ProgressView",
            "bar_style": "",
            "description": "",
            "description_tooltip": null,
            "layout": "IPY_MODEL_2c3708f0364f46a287eac589ef70cb2b",
            "max": 1,
            "min": 0,
            "orientation": "horizontal",
            "style": "IPY_MODEL_98e1a503f73d46bd8e8432bc7cacc325",
            "value": 1
          }
        },
        "fd84e39606b14ac9b878793bec7ee1b3": {
          "model_module": "@jupyter-widgets/controls",
          "model_name": "HTMLModel",
          "model_module_version": "1.5.0",
          "state": {
            "_dom_classes": [],
            "_model_module": "@jupyter-widgets/controls",
            "_model_module_version": "1.5.0",
            "_model_name": "HTMLModel",
            "_view_count": null,
            "_view_module": "@jupyter-widgets/controls",
            "_view_module_version": "1.5.0",
            "_view_name": "HTMLView",
            "description": "",
            "description_tooltip": null,
            "layout": "IPY_MODEL_e6a8fff8a3b243b2a3e0974250fcb892",
            "placeholder": "​",
            "style": "IPY_MODEL_6e0653f59e004db3a7a4f5e965c61cd1",
            "value": " 0/1 [00:00&lt;?, ? examples/s]"
          }
        },
        "28709592450c49108b53e587583c15ac": {
          "model_module": "@jupyter-widgets/base",
          "model_name": "LayoutModel",
          "model_module_version": "1.2.0",
          "state": {
            "_model_module": "@jupyter-widgets/base",
            "_model_module_version": "1.2.0",
            "_model_name": "LayoutModel",
            "_view_count": null,
            "_view_module": "@jupyter-widgets/base",
            "_view_module_version": "1.2.0",
            "_view_name": "LayoutView",
            "align_content": null,
            "align_items": null,
            "align_self": null,
            "border": null,
            "bottom": null,
            "display": null,
            "flex": null,
            "flex_flow": null,
            "grid_area": null,
            "grid_auto_columns": null,
            "grid_auto_flow": null,
            "grid_auto_rows": null,
            "grid_column": null,
            "grid_gap": null,
            "grid_row": null,
            "grid_template_areas": null,
            "grid_template_columns": null,
            "grid_template_rows": null,
            "height": null,
            "justify_content": null,
            "justify_items": null,
            "left": null,
            "margin": null,
            "max_height": null,
            "max_width": null,
            "min_height": null,
            "min_width": null,
            "object_fit": null,
            "object_position": null,
            "order": null,
            "overflow": null,
            "overflow_x": null,
            "overflow_y": null,
            "padding": null,
            "right": null,
            "top": null,
            "visibility": "hidden",
            "width": null
          }
        },
        "cc7d4b9af0e1490487a4856f287545d4": {
          "model_module": "@jupyter-widgets/base",
          "model_name": "LayoutModel",
          "model_module_version": "1.2.0",
          "state": {
            "_model_module": "@jupyter-widgets/base",
            "_model_module_version": "1.2.0",
            "_model_name": "LayoutModel",
            "_view_count": null,
            "_view_module": "@jupyter-widgets/base",
            "_view_module_version": "1.2.0",
            "_view_name": "LayoutView",
            "align_content": null,
            "align_items": null,
            "align_self": null,
            "border": null,
            "bottom": null,
            "display": null,
            "flex": null,
            "flex_flow": null,
            "grid_area": null,
            "grid_auto_columns": null,
            "grid_auto_flow": null,
            "grid_auto_rows": null,
            "grid_column": null,
            "grid_gap": null,
            "grid_row": null,
            "grid_template_areas": null,
            "grid_template_columns": null,
            "grid_template_rows": null,
            "height": null,
            "justify_content": null,
            "justify_items": null,
            "left": null,
            "margin": null,
            "max_height": null,
            "max_width": null,
            "min_height": null,
            "min_width": null,
            "object_fit": null,
            "object_position": null,
            "order": null,
            "overflow": null,
            "overflow_x": null,
            "overflow_y": null,
            "padding": null,
            "right": null,
            "top": null,
            "visibility": null,
            "width": null
          }
        },
        "e9b34c0eb499474aaa60635a4e9784b8": {
          "model_module": "@jupyter-widgets/controls",
          "model_name": "DescriptionStyleModel",
          "model_module_version": "1.5.0",
          "state": {
            "_model_module": "@jupyter-widgets/controls",
            "_model_module_version": "1.5.0",
            "_model_name": "DescriptionStyleModel",
            "_view_count": null,
            "_view_module": "@jupyter-widgets/base",
            "_view_module_version": "1.2.0",
            "_view_name": "StyleView",
            "description_width": ""
          }
        },
        "2c3708f0364f46a287eac589ef70cb2b": {
          "model_module": "@jupyter-widgets/base",
          "model_name": "LayoutModel",
          "model_module_version": "1.2.0",
          "state": {
            "_model_module": "@jupyter-widgets/base",
            "_model_module_version": "1.2.0",
            "_model_name": "LayoutModel",
            "_view_count": null,
            "_view_module": "@jupyter-widgets/base",
            "_view_module_version": "1.2.0",
            "_view_name": "LayoutView",
            "align_content": null,
            "align_items": null,
            "align_self": null,
            "border": null,
            "bottom": null,
            "display": null,
            "flex": null,
            "flex_flow": null,
            "grid_area": null,
            "grid_auto_columns": null,
            "grid_auto_flow": null,
            "grid_auto_rows": null,
            "grid_column": null,
            "grid_gap": null,
            "grid_row": null,
            "grid_template_areas": null,
            "grid_template_columns": null,
            "grid_template_rows": null,
            "height": null,
            "justify_content": null,
            "justify_items": null,
            "left": null,
            "margin": null,
            "max_height": null,
            "max_width": null,
            "min_height": null,
            "min_width": null,
            "object_fit": null,
            "object_position": null,
            "order": null,
            "overflow": null,
            "overflow_x": null,
            "overflow_y": null,
            "padding": null,
            "right": null,
            "top": null,
            "visibility": null,
            "width": null
          }
        },
        "98e1a503f73d46bd8e8432bc7cacc325": {
          "model_module": "@jupyter-widgets/controls",
          "model_name": "ProgressStyleModel",
          "model_module_version": "1.5.0",
          "state": {
            "_model_module": "@jupyter-widgets/controls",
            "_model_module_version": "1.5.0",
            "_model_name": "ProgressStyleModel",
            "_view_count": null,
            "_view_module": "@jupyter-widgets/base",
            "_view_module_version": "1.2.0",
            "_view_name": "StyleView",
            "bar_color": null,
            "description_width": ""
          }
        },
        "e6a8fff8a3b243b2a3e0974250fcb892": {
          "model_module": "@jupyter-widgets/base",
          "model_name": "LayoutModel",
          "model_module_version": "1.2.0",
          "state": {
            "_model_module": "@jupyter-widgets/base",
            "_model_module_version": "1.2.0",
            "_model_name": "LayoutModel",
            "_view_count": null,
            "_view_module": "@jupyter-widgets/base",
            "_view_module_version": "1.2.0",
            "_view_name": "LayoutView",
            "align_content": null,
            "align_items": null,
            "align_self": null,
            "border": null,
            "bottom": null,
            "display": null,
            "flex": null,
            "flex_flow": null,
            "grid_area": null,
            "grid_auto_columns": null,
            "grid_auto_flow": null,
            "grid_auto_rows": null,
            "grid_column": null,
            "grid_gap": null,
            "grid_row": null,
            "grid_template_areas": null,
            "grid_template_columns": null,
            "grid_template_rows": null,
            "height": null,
            "justify_content": null,
            "justify_items": null,
            "left": null,
            "margin": null,
            "max_height": null,
            "max_width": null,
            "min_height": null,
            "min_width": null,
            "object_fit": null,
            "object_position": null,
            "order": null,
            "overflow": null,
            "overflow_x": null,
            "overflow_y": null,
            "padding": null,
            "right": null,
            "top": null,
            "visibility": null,
            "width": null
          }
        },
        "6e0653f59e004db3a7a4f5e965c61cd1": {
          "model_module": "@jupyter-widgets/controls",
          "model_name": "DescriptionStyleModel",
          "model_module_version": "1.5.0",
          "state": {
            "_model_module": "@jupyter-widgets/controls",
            "_model_module_version": "1.5.0",
            "_model_name": "DescriptionStyleModel",
            "_view_count": null,
            "_view_module": "@jupyter-widgets/base",
            "_view_module_version": "1.2.0",
            "_view_name": "StyleView",
            "description_width": ""
          }
        }
      }
    },
    "accelerator": "GPU"
  },
  "cells": [
    {
      "cell_type": "markdown",
      "source": [
        "<div>\n",
        "<img src=\"https://huggingface.co/datasets/huggingface/brand-assets/resolve/main/hf-logo.png\" width=\"150\">\n",
        "<img src=\"https://scontent-lga3-2.xx.fbcdn.net/v/t39.30808-6/326237524_1368113687277139_7848634163741007761_n.png?_nc_cat=100&ccb=1-7&_nc_sid=09cbfe&_nc_ohc=9x6DAhS-gUwAX-2ZxMv&_nc_ht=scontent-lga3-2.xx&oh=00_AfD3SPcxeME6Ui9O3fIYNFNUUhu-hOCNT8Rttgo6yuFd3Q&oe=64807494\" width=\"150\">\n",
        "</div>\n",
        "\n",
        "# Hugging Face Workshop\n",
        "**Workshop Lead: Bassel Al Omari**"
      ],
      "metadata": {
        "id": "M9XhQydeu9V5"
      }
    },
    {
      "cell_type": "markdown",
      "source": [
        "Get your hands busy with the most popular python library of the 21st century [*](https://github.com/EvanLi/Github-Ranking#python).\n",
        "\n",
        "Hugging Face is the landmark one-stop library for machine learning developers, offering access to state-of-the-art models, datasets, and other useful utilities.\n",
        "\n",
        "In this workshop, we'll be using Hugging Face to finetune GPT-2 to generate Shakespeare-esque text. By the end of this you'll be able use Hugging Face to:\n",
        "- Load and process a dataset from the Hugging Face Hub.\n",
        "- Load and finetune a pretrained model"
      ],
      "metadata": {
        "id": "UA7o2RFcrSRZ"
      }
    },
    {
      "cell_type": "markdown",
      "source": [
        "## Setup\n",
        "To get started we will be downloaded three libraries provided by Hugging Face: `transformers`, `datasets` and `tokenizers`. \n",
        "\n",
        "All load their respective component from the Hugging Face Hub"
      ],
      "metadata": {
        "id": "mbHHrBxmVsTd"
      }
    },
    {
      "cell_type": "code",
      "execution_count": null,
      "metadata": {
        "id": "ngojLGFKu8Oc"
      },
      "outputs": [],
      "source": [
        "!pip install datasets transformers==4.28.0 tokenizers"
      ]
    },
    {
      "cell_type": "markdown",
      "source": [
        "We'll also be uploading our model to the Hugging Face Hub, to store it and share it with the community.\n",
        "\n",
        "You can sign up for a Hugging Face account [here](https://huggingface.co/join), and generate the necessary access token [here](https://huggingface.co/settings/tokens)."
      ],
      "metadata": {
        "id": "acqMAUfKmHu7"
      }
    },
    {
      "cell_type": "code",
      "source": [
        "!pip install huggingface_hub"
      ],
      "metadata": {
        "id": "PoLl7J09m8RL"
      },
      "execution_count": null,
      "outputs": []
    },
    {
      "cell_type": "code",
      "source": [
        "from huggingface_hub import notebook_login\n",
        "\n",
        "notebook_login()"
      ],
      "metadata": {
        "id": "yMx8IMJRmHDR"
      },
      "execution_count": null,
      "outputs": []
    },
    {
      "cell_type": "markdown",
      "source": [
        "#### GPU access\n",
        "We'll just install accelerate which allows Hugging Face to run on Multi-GPU setups, and also define the GPU that is to be used."
      ],
      "metadata": {
        "id": "kW0d6MzeH4Jh"
      }
    },
    {
      "cell_type": "code",
      "source": [
        "!pip install accelerate"
      ],
      "metadata": {
        "id": "wm47QMPTH6aC"
      },
      "execution_count": null,
      "outputs": []
    },
    {
      "cell_type": "code",
      "source": [
        "import torch\n",
        "\n",
        "device = torch.device('cuda' if torch.cuda.is_available() else 'cpu')"
      ],
      "metadata": {
        "id": "X9Rj1ex4H9SR"
      },
      "execution_count": 4,
      "outputs": []
    },
    {
      "cell_type": "markdown",
      "source": [
        "## Datasets\n",
        "\n",
        "You can browse through all the datasets available on the hugging face platform, in [the Datasets page](https://huggingface.co/datasets)."
      ],
      "metadata": {
        "id": "9hkWMTZnYr5K"
      }
    },
    {
      "cell_type": "markdown",
      "source": [
        "#### Tiny Shakespeare\n",
        "\n",
        "We'll be using the Tiny Shakespeare, which contains 40,000 lines from various Shakespeare plays.\n",
        "\n",
        "You can find the dataset on [the Hugging Face Hub](https://huggingface.co/datasets/tiny_shakespeare), with instructions on how to load it with the datasets library.\n",
        "\n",
        "Just a simple two lines!"
      ],
      "metadata": {
        "id": "5EU5cka-oUhu"
      }
    },
    {
      "cell_type": "code",
      "source": [
        "from datasets import load_dataset\n",
        "\n",
        "raw_datasets = load_dataset(\"tiny_shakespeare\")\n",
        "\n",
        "print(raw_datasets)"
      ],
      "metadata": {
        "colab": {
          "base_uri": "https://localhost:8080/",
          "height": 292,
          "referenced_widgets": [
            "d8f77e23e1b74d0e86c2669f4c7c75d0",
            "c23741de258c475f9029c695957669e3",
            "7390baf99ac8483395c4c423c0f65a9a",
            "ad8c842586074d0488d456fac420641a",
            "f2ac7ac319b14fdfb10dcaf80db4fba9",
            "714d7a0b89ae4adf9d4e1ae4ef788698",
            "311dacb7558444baafc9ae39de0358b3",
            "3013ee89a5c24f8288ed52eeb45900b8",
            "9c530a2751624a9188f7a9706f34035b",
            "e9bab1bb960e478185f56c7ea97d8fd1",
            "52ac4bfd700c4a25be3e2f00421e0aea"
          ]
        },
        "id": "id7lO7XDbou-",
        "outputId": "0f4a9004-2cea-45a7-d4e0-49934f231957"
      },
      "execution_count": 37,
      "outputs": [
        {
          "output_type": "display_data",
          "data": {
            "text/plain": [
              "  0%|          | 0/3 [00:00<?, ?it/s]"
            ],
            "application/vnd.jupyter.widget-view+json": {
              "version_major": 2,
              "version_minor": 0,
              "model_id": "d8f77e23e1b74d0e86c2669f4c7c75d0"
            }
          },
          "metadata": {}
        },
        {
          "output_type": "stream",
          "name": "stdout",
          "text": [
            "DatasetDict({\n",
            "    train: Dataset({\n",
            "        features: ['text'],\n",
            "        num_rows: 1\n",
            "    })\n",
            "    validation: Dataset({\n",
            "        features: ['text'],\n",
            "        num_rows: 1\n",
            "    })\n",
            "    test: Dataset({\n",
            "        features: ['text'],\n",
            "        num_rows: 1\n",
            "    })\n",
            "})\n"
          ]
        }
      ]
    },
    {
      "cell_type": "markdown",
      "source": [
        "We can see that `raw_datasets` is a Python dictionary, with each key corresponding to a different split.\n",
        "\n",
        "\n",
        "Let's look at an example of the text from the training set:"
      ],
      "metadata": {
        "id": "G0dZ2XLbe5rh"
      }
    },
    {
      "cell_type": "code",
      "source": [
        "print(raw_datasets[\"train\"][\"text\"][0][:250])"
      ],
      "metadata": {
        "colab": {
          "base_uri": "https://localhost:8080/"
        },
        "id": "mlHaOQwxDh07",
        "outputId": "5e79aeb3-c68e-4ac3-9468-962ec8c12280"
      },
      "execution_count": 38,
      "outputs": [
        {
          "output_type": "stream",
          "name": "stdout",
          "text": [
            "First Citizen:\n",
            "Before we proceed any further, hear me speak.\n",
            "\n",
            "All:\n",
            "Speak, speak.\n",
            "\n",
            "First Citizen:\n",
            "You are all resolved rather to die than to famish?\n",
            "\n",
            "All:\n",
            "Resolved. resolved.\n",
            "\n",
            "First Citizen:\n",
            "First, you know Caius Marcius is chief enemy to the people.\n",
            "\n"
          ]
        }
      ]
    },
    {
      "cell_type": "markdown",
      "source": [
        "## Tokenize it!\n",
        "\n",
        "Transformers can't take in strings, but instead require the input to be numbers. Therefore, we must convert the Shakespeare dataset sentences into representative numbers.\n",
        "\n",
        "This process is known as Tokenization, where we split the strings into smaller subunits (could be either words or characters or other subunits), and assign each unique subunit a representative number.\n",
        "\n",
        "Take the example sentence `\"black cat and black dog\".`\n",
        "- If we were to tokenize the sentence at a word-level, we would get the following split: `\"['black', 'cat', 'and', 'black', 'dog']\"`, which could be encoded as:\n",
        "\n",
        "```\n",
        "0 black\n",
        "1 cat\n",
        "2 and\n",
        "3 dog\n",
        "\n",
        "black cat and black dog => 0 1 2 0 3\n",
        "```\n",
        "\n",
        "Each pretrained model comes with its own tokenizer, so to get started let's download the tokenizer of DistilGPT-2:"
      ],
      "metadata": {
        "id": "jr2_yHklGbH8"
      }
    },
    {
      "cell_type": "code",
      "source": [
        "from transformers import AutoTokenizer\n",
        "\n",
        "model_name = \"distilgpt2\"\n",
        "tokenizer = AutoTokenizer.from_pretrained(model_name, use_fast=True)"
      ],
      "metadata": {
        "id": "CWOGbQ8dGqCn"
      },
      "execution_count": null,
      "outputs": []
    },
    {
      "cell_type": "markdown",
      "source": [
        "Let's feed the tokenizer an example to see how it would encode it. Note that this is how the GPT-2 tokenizer would split the input, other tokenizers may split it differently."
      ],
      "metadata": {
        "id": "AoTLfW43r62l"
      }
    },
    {
      "cell_type": "code",
      "source": [
        "example_str = \"Mr. Goose approves of the Data-Science Club\"\n",
        "\n",
        "encoded_str = tokenizer(example_str)\n",
        "print(encoded_str['input_ids'])"
      ],
      "metadata": {
        "colab": {
          "base_uri": "https://localhost:8080/"
        },
        "id": "z0Kw3EZPr5T_",
        "outputId": "9219e012-6b76-4813-ae58-1d581afd0af5"
      },
      "execution_count": 8,
      "outputs": [
        {
          "output_type": "stream",
          "name": "stdout",
          "text": [
            "[5246, 13, 46317, 43770, 286, 262, 6060, 12, 26959, 6289]\n"
          ]
        }
      ]
    },
    {
      "cell_type": "code",
      "source": [
        "for token in encoded_str['input_ids']:\n",
        "  print(token, tokenizer.decode([token]))"
      ],
      "metadata": {
        "colab": {
          "base_uri": "https://localhost:8080/"
        },
        "id": "iF4uLnx_tU_c",
        "outputId": "a071e40a-80f2-48f5-f377-1150c05d0e1f"
      },
      "execution_count": 9,
      "outputs": [
        {
          "output_type": "stream",
          "name": "stdout",
          "text": [
            "5246 Mr\n",
            "13 .\n",
            "46317  Goose\n",
            "43770  approves\n",
            "286  of\n",
            "262  the\n",
            "6060  Data\n",
            "12 -\n",
            "26959 Science\n",
            "6289  Club\n"
          ]
        }
      ]
    },
    {
      "cell_type": "markdown",
      "source": [
        "We apply this tokenizer now to all the sentences from the Shakepeare dataset:"
      ],
      "metadata": {
        "id": "_41pWJ8et7IY"
      }
    },
    {
      "cell_type": "code",
      "source": [
        "def tokenize_function(examples):\n",
        "    return tokenizer(examples[\"text\"])\n",
        "\n",
        "tokenizer.pad_token = tokenizer.eos_token\n",
        "\n",
        "tokenized_datasets = raw_datasets.map(\n",
        "    tokenize_function, \n",
        "    batched=True, \n",
        "    remove_columns=[\"text\"]\n",
        ")"
      ],
      "metadata": {
        "id": "P9BwFg1g89gj"
      },
      "execution_count": 41,
      "outputs": []
    },
    {
      "cell_type": "markdown",
      "source": [
        "## Preparing the dataset\n",
        "\n",
        "We split the input text into chunks of size 128, which we feed individually into the model.\n",
        "\n",
        "To train the model, we split a chunk into two parts. We pass the first as an input to the model, and compare the model output to the second part of the input.\n",
        "\n",
        "For example, take the sentence \"Mr. goose approves of this workshop\". We take the first part \"Mr. goose approves of\", and pass it as input to the model, then compare the model's output to the second part \"this workshop\".\n",
        "\n",
        "Note that the transformer used in this notebook does all this automatically for us."
      ],
      "metadata": {
        "id": "rAljolPLwrWc"
      }
    },
    {
      "cell_type": "code",
      "source": [
        "# block size == max input length into the model\n",
        "block_size = 128\n",
        "    \n",
        "def group_texts(examples):\n",
        "    # Concatenate all texts\n",
        "    concatenated_examples = {k: sum(examples[k], []) for k in examples.keys()}\n",
        "    total_length = len(concatenated_examples[list(examples.keys())[0]])\n",
        "    total_length = (total_length // block_size) * block_size\n",
        "\n",
        "    # Split by chunks of block_size\n",
        "    result = {\n",
        "        k: [t[i : i + block_size] for i in range(0, total_length, block_size)]\n",
        "        for k, t in concatenated_examples.items()\n",
        "    }\n",
        "    result[\"labels\"] = result[\"input_ids\"].copy()\n",
        "    return result\n",
        "\n",
        "# split total dataset into smaller sets of length block_size\n",
        "lm_datasets = tokenized_datasets.map(\n",
        "    group_texts,\n",
        "    batched=True\n",
        ")\n",
        "lm_datasets"
      ],
      "metadata": {
        "colab": {
          "base_uri": "https://localhost:8080/",
          "height": 260,
          "referenced_widgets": [
            "1272e9b6e03f464c893b3a396cc2776c",
            "7639a65a61d049b6873f947dbcdc4f38",
            "b005b6654cdb4ccb92f1d6a058e35ab2",
            "fd07704ff6b74520a2582f2fa6777c41",
            "2f671add779c44b9ab02d6bc5fdf9d5e",
            "827d92dd17cc4698a6b00fef863d34d1",
            "56cc47abd0e24a2583f05c5aab92432d",
            "ac6a72d0de9c4c868f583831e95f4180",
            "bc02bc381ed742a09054d6e577c90998",
            "59fac9ac297541fe828835cdf219eae4",
            "50a3860846644978a54f40d10ed7520d",
            "433bdc8cd5e04eed9d5d63fdb66c4257",
            "221a600e7a654e558c888c67f96e67d1",
            "d3a438743cc54090a273e102ca057474",
            "5946cb05a57a48b5821eca488c00b55b",
            "5e094fcb363242ebb9aa94a908d7b0c9",
            "372b65bb5103456985bec9f046fc37ac",
            "d285c3b28f0c40bea940abbe14df30e2",
            "0480787c8a8a4e4abc9fe5299122a445",
            "4310188770a6491cab2aa1f66c866808",
            "0b156b3da6594d6d977c895c3f1818d6",
            "5aa79bfd9bf24eceb78800887ccaa516",
            "74b1c1930cd54e2d9c7c2d73c4eb58d2",
            "2029c2508ac146118d6d6f4d9c5b24b1",
            "8856525b2b81485fb9a1f0e216d6d5e1",
            "fd84e39606b14ac9b878793bec7ee1b3",
            "28709592450c49108b53e587583c15ac",
            "cc7d4b9af0e1490487a4856f287545d4",
            "e9b34c0eb499474aaa60635a4e9784b8",
            "2c3708f0364f46a287eac589ef70cb2b",
            "98e1a503f73d46bd8e8432bc7cacc325",
            "e6a8fff8a3b243b2a3e0974250fcb892",
            "6e0653f59e004db3a7a4f5e965c61cd1"
          ]
        },
        "id": "-fyJUX1s9CR7",
        "outputId": "d1f1ac4b-700d-4b8d-e357-8091990b08fd"
      },
      "execution_count": 42,
      "outputs": [
        {
          "output_type": "display_data",
          "data": {
            "text/plain": [
              "Map:   0%|          | 0/1 [00:00<?, ? examples/s]"
            ],
            "application/vnd.jupyter.widget-view+json": {
              "version_major": 2,
              "version_minor": 0,
              "model_id": "1272e9b6e03f464c893b3a396cc2776c"
            }
          },
          "metadata": {}
        },
        {
          "output_type": "display_data",
          "data": {
            "text/plain": [
              "Map:   0%|          | 0/1 [00:00<?, ? examples/s]"
            ],
            "application/vnd.jupyter.widget-view+json": {
              "version_major": 2,
              "version_minor": 0,
              "model_id": "433bdc8cd5e04eed9d5d63fdb66c4257"
            }
          },
          "metadata": {}
        },
        {
          "output_type": "display_data",
          "data": {
            "text/plain": [
              "Map:   0%|          | 0/1 [00:00<?, ? examples/s]"
            ],
            "application/vnd.jupyter.widget-view+json": {
              "version_major": 2,
              "version_minor": 0,
              "model_id": "74b1c1930cd54e2d9c7c2d73c4eb58d2"
            }
          },
          "metadata": {}
        },
        {
          "output_type": "execute_result",
          "data": {
            "text/plain": [
              "DatasetDict({\n",
              "    train: Dataset({\n",
              "        features: ['input_ids', 'attention_mask', 'labels'],\n",
              "        num_rows: 2359\n",
              "    })\n",
              "    validation: Dataset({\n",
              "        features: ['input_ids', 'attention_mask', 'labels'],\n",
              "        num_rows: 141\n",
              "    })\n",
              "    test: Dataset({\n",
              "        features: ['input_ids', 'attention_mask', 'labels'],\n",
              "        num_rows: 140\n",
              "    })\n",
              "})"
            ]
          },
          "metadata": {},
          "execution_count": 42
        }
      ]
    },
    {
      "cell_type": "markdown",
      "source": [
        "## The Model\n",
        "\n",
        "We'll be using DistilGPT2, a lighter version of GPT-2 (88.2 million parameters compared to GPT-2's 1.5 billion parameters). DistilGPT2 was pretrained using [knowledge distillation](https://neptune.ai/blog/knowledge-distillation) with the supervision of GPT-2.\n",
        "\n",
        "You can find the model on the Hugging Face Hub [here](https://huggingface.co/distilgpt2) and how to load it with the transformers library."
      ],
      "metadata": {
        "id": "gB4V8fGw10Nf"
      }
    },
    {
      "cell_type": "code",
      "source": [
        "from transformers import AutoModelForCausalLM\n",
        "\n",
        "model = AutoModelForCausalLM.from_pretrained(model_name).to(device)"
      ],
      "metadata": {
        "id": "1VIdvlGC9MLK"
      },
      "execution_count": null,
      "outputs": []
    },
    {
      "cell_type": "markdown",
      "source": [
        "The `Trainer` is an abstracted API for training your models in PyTorch. \n",
        "\n",
        "Begin by defining the training hypeparameters using `TrainingArguments`, and define the `Trainer` with said hyperparameters.\n",
        "\n",
        "By setting `push_to_hub=True`, a repository (with the name `output_dir`), is created and your finetuned model is uploaded after every training epoch."
      ],
      "metadata": {
        "id": "k4kwSJmK4rc-"
      }
    },
    {
      "cell_type": "code",
      "source": [
        "from transformers import Trainer, TrainingArguments\n",
        "\n",
        "\n",
        "args = TrainingArguments(\n",
        "    output_dir='transformers-dsc-workshop',\n",
        "    per_device_train_batch_size=32,\n",
        "    per_device_eval_batch_size=32,\n",
        "    num_train_epochs=20,\n",
        "    optim='adamw_hf',\n",
        "    weight_decay=0.01,\n",
        "    learning_rate=2e-5,\n",
        "    push_to_hub=True, # save model every epoch\n",
        "    save_strategy='epoch'\n",
        ")\n",
        "\n",
        "trainer = Trainer(\n",
        "    model=model,\n",
        "    tokenizer=tokenizer,\n",
        "    args=args,\n",
        "    train_dataset=lm_datasets[\"train\"],\n",
        "    eval_dataset=lm_datasets[\"validation\"]\n",
        ")"
      ],
      "metadata": {
        "id": "uOTX9w2O9d3j"
      },
      "execution_count": null,
      "outputs": []
    },
    {
      "cell_type": "markdown",
      "source": [
        "Simply call `.train()` to fit your model to the training set:"
      ],
      "metadata": {
        "id": "YcbmYgde8sh-"
      }
    },
    {
      "cell_type": "code",
      "source": [
        "trainer.train()"
      ],
      "metadata": {
        "colab": {
          "base_uri": "https://localhost:8080/",
          "height": 1000
        },
        "id": "KW4qvKwSK3W_",
        "outputId": "28864ab2-6546-4d04-f563-aed231f29ce0"
      },
      "execution_count": 36,
      "outputs": [
        {
          "output_type": "stream",
          "name": "stderr",
          "text": [
            "/usr/local/lib/python3.10/dist-packages/transformers/optimization.py:391: FutureWarning: This implementation of AdamW is deprecated and will be removed in a future version. Use the PyTorch implementation torch.optim.AdamW instead, or set `no_deprecation_warning=True` to disable this warning\n",
            "  warnings.warn(\n",
            "***** Running training *****\n",
            "  Num examples = 2,359\n",
            "  Num Epochs = 20\n",
            "  Instantaneous batch size per device = 32\n",
            "  Total train batch size (w. parallel, distributed & accumulation) = 32\n",
            "  Gradient Accumulation steps = 1\n",
            "  Total optimization steps = 1,480\n",
            "  Number of trainable parameters = 81,912,576\n"
          ]
        },
        {
          "output_type": "display_data",
          "data": {
            "text/plain": [
              "<IPython.core.display.HTML object>"
            ],
            "text/html": [
              "\n",
              "    <div>\n",
              "      \n",
              "      <progress value='1480' max='1480' style='width:300px; height:20px; vertical-align: middle;'></progress>\n",
              "      [1480/1480 31:14, Epoch 20/20]\n",
              "    </div>\n",
              "    <table border=\"1\" class=\"dataframe\">\n",
              "  <thead>\n",
              " <tr style=\"text-align: left;\">\n",
              "      <th>Step</th>\n",
              "      <th>Training Loss</th>\n",
              "    </tr>\n",
              "  </thead>\n",
              "  <tbody>\n",
              "    <tr>\n",
              "      <td>500</td>\n",
              "      <td>3.774000</td>\n",
              "    </tr>\n",
              "    <tr>\n",
              "      <td>1000</td>\n",
              "      <td>3.573200</td>\n",
              "    </tr>\n",
              "  </tbody>\n",
              "</table><p>"
            ]
          },
          "metadata": {}
        },
        {
          "output_type": "stream",
          "name": "stderr",
          "text": [
            "Saving model checkpoint to transformers-dsc-workshop/checkpoint-74\n",
            "Configuration saved in transformers-dsc-workshop/checkpoint-74/config.json\n",
            "Configuration saved in transformers-dsc-workshop/checkpoint-74/generation_config.json\n",
            "Model weights saved in transformers-dsc-workshop/checkpoint-74/pytorch_model.bin\n",
            "tokenizer config file saved in transformers-dsc-workshop/checkpoint-74/tokenizer_config.json\n",
            "Special tokens file saved in transformers-dsc-workshop/checkpoint-74/special_tokens_map.json\n",
            "tokenizer config file saved in transformers-dsc-workshop/tokenizer_config.json\n",
            "Special tokens file saved in transformers-dsc-workshop/special_tokens_map.json\n",
            "Saving model checkpoint to transformers-dsc-workshop/checkpoint-148\n",
            "Configuration saved in transformers-dsc-workshop/checkpoint-148/config.json\n",
            "Configuration saved in transformers-dsc-workshop/checkpoint-148/generation_config.json\n",
            "Model weights saved in transformers-dsc-workshop/checkpoint-148/pytorch_model.bin\n",
            "tokenizer config file saved in transformers-dsc-workshop/checkpoint-148/tokenizer_config.json\n",
            "Special tokens file saved in transformers-dsc-workshop/checkpoint-148/special_tokens_map.json\n",
            "tokenizer config file saved in transformers-dsc-workshop/tokenizer_config.json\n",
            "Special tokens file saved in transformers-dsc-workshop/special_tokens_map.json\n",
            "Saving model checkpoint to transformers-dsc-workshop/checkpoint-222\n",
            "Configuration saved in transformers-dsc-workshop/checkpoint-222/config.json\n",
            "Configuration saved in transformers-dsc-workshop/checkpoint-222/generation_config.json\n",
            "Model weights saved in transformers-dsc-workshop/checkpoint-222/pytorch_model.bin\n",
            "tokenizer config file saved in transformers-dsc-workshop/checkpoint-222/tokenizer_config.json\n",
            "Special tokens file saved in transformers-dsc-workshop/checkpoint-222/special_tokens_map.json\n",
            "tokenizer config file saved in transformers-dsc-workshop/tokenizer_config.json\n",
            "Special tokens file saved in transformers-dsc-workshop/special_tokens_map.json\n",
            "Saving model checkpoint to transformers-dsc-workshop/checkpoint-296\n",
            "Configuration saved in transformers-dsc-workshop/checkpoint-296/config.json\n",
            "Configuration saved in transformers-dsc-workshop/checkpoint-296/generation_config.json\n",
            "Model weights saved in transformers-dsc-workshop/checkpoint-296/pytorch_model.bin\n",
            "tokenizer config file saved in transformers-dsc-workshop/checkpoint-296/tokenizer_config.json\n",
            "Special tokens file saved in transformers-dsc-workshop/checkpoint-296/special_tokens_map.json\n",
            "tokenizer config file saved in transformers-dsc-workshop/tokenizer_config.json\n",
            "Special tokens file saved in transformers-dsc-workshop/special_tokens_map.json\n",
            "Saving model checkpoint to transformers-dsc-workshop/checkpoint-370\n",
            "Configuration saved in transformers-dsc-workshop/checkpoint-370/config.json\n",
            "Configuration saved in transformers-dsc-workshop/checkpoint-370/generation_config.json\n",
            "Model weights saved in transformers-dsc-workshop/checkpoint-370/pytorch_model.bin\n",
            "tokenizer config file saved in transformers-dsc-workshop/checkpoint-370/tokenizer_config.json\n",
            "Special tokens file saved in transformers-dsc-workshop/checkpoint-370/special_tokens_map.json\n",
            "tokenizer config file saved in transformers-dsc-workshop/tokenizer_config.json\n",
            "Special tokens file saved in transformers-dsc-workshop/special_tokens_map.json\n",
            "Saving model checkpoint to transformers-dsc-workshop/checkpoint-444\n",
            "Configuration saved in transformers-dsc-workshop/checkpoint-444/config.json\n",
            "Configuration saved in transformers-dsc-workshop/checkpoint-444/generation_config.json\n",
            "Model weights saved in transformers-dsc-workshop/checkpoint-444/pytorch_model.bin\n",
            "tokenizer config file saved in transformers-dsc-workshop/checkpoint-444/tokenizer_config.json\n",
            "Special tokens file saved in transformers-dsc-workshop/checkpoint-444/special_tokens_map.json\n",
            "tokenizer config file saved in transformers-dsc-workshop/tokenizer_config.json\n",
            "Special tokens file saved in transformers-dsc-workshop/special_tokens_map.json\n",
            "Saving model checkpoint to transformers-dsc-workshop/checkpoint-518\n",
            "Configuration saved in transformers-dsc-workshop/checkpoint-518/config.json\n",
            "Configuration saved in transformers-dsc-workshop/checkpoint-518/generation_config.json\n",
            "Model weights saved in transformers-dsc-workshop/checkpoint-518/pytorch_model.bin\n",
            "tokenizer config file saved in transformers-dsc-workshop/checkpoint-518/tokenizer_config.json\n",
            "Special tokens file saved in transformers-dsc-workshop/checkpoint-518/special_tokens_map.json\n",
            "tokenizer config file saved in transformers-dsc-workshop/tokenizer_config.json\n",
            "Special tokens file saved in transformers-dsc-workshop/special_tokens_map.json\n",
            "Saving model checkpoint to transformers-dsc-workshop/checkpoint-592\n",
            "Configuration saved in transformers-dsc-workshop/checkpoint-592/config.json\n",
            "Configuration saved in transformers-dsc-workshop/checkpoint-592/generation_config.json\n",
            "Model weights saved in transformers-dsc-workshop/checkpoint-592/pytorch_model.bin\n",
            "tokenizer config file saved in transformers-dsc-workshop/checkpoint-592/tokenizer_config.json\n",
            "Special tokens file saved in transformers-dsc-workshop/checkpoint-592/special_tokens_map.json\n",
            "tokenizer config file saved in transformers-dsc-workshop/tokenizer_config.json\n",
            "Special tokens file saved in transformers-dsc-workshop/special_tokens_map.json\n",
            "Saving model checkpoint to transformers-dsc-workshop/checkpoint-666\n",
            "Configuration saved in transformers-dsc-workshop/checkpoint-666/config.json\n",
            "Configuration saved in transformers-dsc-workshop/checkpoint-666/generation_config.json\n",
            "Model weights saved in transformers-dsc-workshop/checkpoint-666/pytorch_model.bin\n",
            "tokenizer config file saved in transformers-dsc-workshop/checkpoint-666/tokenizer_config.json\n",
            "Special tokens file saved in transformers-dsc-workshop/checkpoint-666/special_tokens_map.json\n",
            "tokenizer config file saved in transformers-dsc-workshop/tokenizer_config.json\n",
            "Special tokens file saved in transformers-dsc-workshop/special_tokens_map.json\n",
            "Saving model checkpoint to transformers-dsc-workshop/checkpoint-740\n",
            "Configuration saved in transformers-dsc-workshop/checkpoint-740/config.json\n",
            "Configuration saved in transformers-dsc-workshop/checkpoint-740/generation_config.json\n",
            "Model weights saved in transformers-dsc-workshop/checkpoint-740/pytorch_model.bin\n",
            "tokenizer config file saved in transformers-dsc-workshop/checkpoint-740/tokenizer_config.json\n",
            "Special tokens file saved in transformers-dsc-workshop/checkpoint-740/special_tokens_map.json\n",
            "tokenizer config file saved in transformers-dsc-workshop/tokenizer_config.json\n",
            "Special tokens file saved in transformers-dsc-workshop/special_tokens_map.json\n",
            "Saving model checkpoint to transformers-dsc-workshop/checkpoint-814\n",
            "Configuration saved in transformers-dsc-workshop/checkpoint-814/config.json\n",
            "Configuration saved in transformers-dsc-workshop/checkpoint-814/generation_config.json\n",
            "Model weights saved in transformers-dsc-workshop/checkpoint-814/pytorch_model.bin\n",
            "tokenizer config file saved in transformers-dsc-workshop/checkpoint-814/tokenizer_config.json\n",
            "Special tokens file saved in transformers-dsc-workshop/checkpoint-814/special_tokens_map.json\n",
            "tokenizer config file saved in transformers-dsc-workshop/tokenizer_config.json\n",
            "Special tokens file saved in transformers-dsc-workshop/special_tokens_map.json\n",
            "Saving model checkpoint to transformers-dsc-workshop/checkpoint-888\n",
            "Configuration saved in transformers-dsc-workshop/checkpoint-888/config.json\n",
            "Configuration saved in transformers-dsc-workshop/checkpoint-888/generation_config.json\n",
            "Model weights saved in transformers-dsc-workshop/checkpoint-888/pytorch_model.bin\n",
            "tokenizer config file saved in transformers-dsc-workshop/checkpoint-888/tokenizer_config.json\n",
            "Special tokens file saved in transformers-dsc-workshop/checkpoint-888/special_tokens_map.json\n",
            "tokenizer config file saved in transformers-dsc-workshop/tokenizer_config.json\n",
            "Special tokens file saved in transformers-dsc-workshop/special_tokens_map.json\n",
            "Saving model checkpoint to transformers-dsc-workshop/checkpoint-962\n",
            "Configuration saved in transformers-dsc-workshop/checkpoint-962/config.json\n",
            "Configuration saved in transformers-dsc-workshop/checkpoint-962/generation_config.json\n",
            "Model weights saved in transformers-dsc-workshop/checkpoint-962/pytorch_model.bin\n",
            "tokenizer config file saved in transformers-dsc-workshop/checkpoint-962/tokenizer_config.json\n",
            "Special tokens file saved in transformers-dsc-workshop/checkpoint-962/special_tokens_map.json\n",
            "tokenizer config file saved in transformers-dsc-workshop/tokenizer_config.json\n",
            "Special tokens file saved in transformers-dsc-workshop/special_tokens_map.json\n",
            "Saving model checkpoint to transformers-dsc-workshop/checkpoint-1036\n",
            "Configuration saved in transformers-dsc-workshop/checkpoint-1036/config.json\n",
            "Configuration saved in transformers-dsc-workshop/checkpoint-1036/generation_config.json\n",
            "Model weights saved in transformers-dsc-workshop/checkpoint-1036/pytorch_model.bin\n",
            "tokenizer config file saved in transformers-dsc-workshop/checkpoint-1036/tokenizer_config.json\n",
            "Special tokens file saved in transformers-dsc-workshop/checkpoint-1036/special_tokens_map.json\n",
            "tokenizer config file saved in transformers-dsc-workshop/tokenizer_config.json\n",
            "Special tokens file saved in transformers-dsc-workshop/special_tokens_map.json\n",
            "Saving model checkpoint to transformers-dsc-workshop/checkpoint-1110\n",
            "Configuration saved in transformers-dsc-workshop/checkpoint-1110/config.json\n",
            "Configuration saved in transformers-dsc-workshop/checkpoint-1110/generation_config.json\n",
            "Model weights saved in transformers-dsc-workshop/checkpoint-1110/pytorch_model.bin\n",
            "tokenizer config file saved in transformers-dsc-workshop/checkpoint-1110/tokenizer_config.json\n",
            "Special tokens file saved in transformers-dsc-workshop/checkpoint-1110/special_tokens_map.json\n",
            "tokenizer config file saved in transformers-dsc-workshop/tokenizer_config.json\n",
            "Special tokens file saved in transformers-dsc-workshop/special_tokens_map.json\n",
            "Saving model checkpoint to transformers-dsc-workshop/checkpoint-1184\n",
            "Configuration saved in transformers-dsc-workshop/checkpoint-1184/config.json\n",
            "Configuration saved in transformers-dsc-workshop/checkpoint-1184/generation_config.json\n",
            "Model weights saved in transformers-dsc-workshop/checkpoint-1184/pytorch_model.bin\n",
            "tokenizer config file saved in transformers-dsc-workshop/checkpoint-1184/tokenizer_config.json\n",
            "Special tokens file saved in transformers-dsc-workshop/checkpoint-1184/special_tokens_map.json\n",
            "tokenizer config file saved in transformers-dsc-workshop/tokenizer_config.json\n",
            "Special tokens file saved in transformers-dsc-workshop/special_tokens_map.json\n",
            "Saving model checkpoint to transformers-dsc-workshop/checkpoint-1258\n",
            "Configuration saved in transformers-dsc-workshop/checkpoint-1258/config.json\n",
            "Configuration saved in transformers-dsc-workshop/checkpoint-1258/generation_config.json\n",
            "Model weights saved in transformers-dsc-workshop/checkpoint-1258/pytorch_model.bin\n",
            "tokenizer config file saved in transformers-dsc-workshop/checkpoint-1258/tokenizer_config.json\n",
            "Special tokens file saved in transformers-dsc-workshop/checkpoint-1258/special_tokens_map.json\n",
            "tokenizer config file saved in transformers-dsc-workshop/tokenizer_config.json\n",
            "Special tokens file saved in transformers-dsc-workshop/special_tokens_map.json\n",
            "Saving model checkpoint to transformers-dsc-workshop/checkpoint-1332\n",
            "Configuration saved in transformers-dsc-workshop/checkpoint-1332/config.json\n",
            "Configuration saved in transformers-dsc-workshop/checkpoint-1332/generation_config.json\n",
            "Model weights saved in transformers-dsc-workshop/checkpoint-1332/pytorch_model.bin\n",
            "tokenizer config file saved in transformers-dsc-workshop/checkpoint-1332/tokenizer_config.json\n",
            "Special tokens file saved in transformers-dsc-workshop/checkpoint-1332/special_tokens_map.json\n",
            "tokenizer config file saved in transformers-dsc-workshop/tokenizer_config.json\n",
            "Special tokens file saved in transformers-dsc-workshop/special_tokens_map.json\n",
            "Saving model checkpoint to transformers-dsc-workshop/checkpoint-1406\n",
            "Configuration saved in transformers-dsc-workshop/checkpoint-1406/config.json\n",
            "Configuration saved in transformers-dsc-workshop/checkpoint-1406/generation_config.json\n",
            "Model weights saved in transformers-dsc-workshop/checkpoint-1406/pytorch_model.bin\n",
            "tokenizer config file saved in transformers-dsc-workshop/checkpoint-1406/tokenizer_config.json\n",
            "Special tokens file saved in transformers-dsc-workshop/checkpoint-1406/special_tokens_map.json\n",
            "tokenizer config file saved in transformers-dsc-workshop/tokenizer_config.json\n",
            "Special tokens file saved in transformers-dsc-workshop/special_tokens_map.json\n",
            "Saving model checkpoint to transformers-dsc-workshop/checkpoint-1480\n",
            "Configuration saved in transformers-dsc-workshop/checkpoint-1480/config.json\n",
            "Configuration saved in transformers-dsc-workshop/checkpoint-1480/generation_config.json\n",
            "Model weights saved in transformers-dsc-workshop/checkpoint-1480/pytorch_model.bin\n",
            "tokenizer config file saved in transformers-dsc-workshop/checkpoint-1480/tokenizer_config.json\n",
            "Special tokens file saved in transformers-dsc-workshop/checkpoint-1480/special_tokens_map.json\n",
            "tokenizer config file saved in transformers-dsc-workshop/tokenizer_config.json\n",
            "Special tokens file saved in transformers-dsc-workshop/special_tokens_map.json\n",
            "\n",
            "\n",
            "Training completed. Do not forget to share your model on huggingface.co/models =)\n",
            "\n",
            "\n"
          ]
        },
        {
          "output_type": "execute_result",
          "data": {
            "text/plain": [
              "TrainOutput(global_step=1480, training_loss=3.6186934187605573, metrics={'train_runtime': 1875.3404, 'train_samples_per_second': 25.158, 'train_steps_per_second': 0.789, 'total_flos': 1540997586616320.0, 'train_loss': 3.6186934187605573, 'epoch': 20.0})"
            ]
          },
          "metadata": {},
          "execution_count": 36
        }
      ]
    },
    {
      "cell_type": "markdown",
      "source": [
        "The `pipeline` is another API for using a model for inference. You can either use the model that you have just trained, or load a model directly from the Hugging Face API (see a couple of cells below)."
      ],
      "metadata": {
        "id": "VhQdWk8h84Ij"
      }
    },
    {
      "cell_type": "code",
      "source": [
        "from transformers import pipeline\n",
        "\n",
        "text_generator = pipeline(\"text-generation\", model=model, tokenizer=tokenizer, device=0, framework=\"pt\")\n",
        "\n",
        "outputs = text_generator(\"HAMLET: To be or not to be \", temperature=0.8, max_length=100)[0]\n",
        "print(outputs[\"generated_text\"])"
      ],
      "metadata": {
        "colab": {
          "base_uri": "https://localhost:8080/"
        },
        "id": "WVePSa8mEfEW",
        "outputId": "5a7a4bd8-cec0-4f32-9b24-7812fd5195cf"
      },
      "execution_count": null,
      "outputs": [
        {
          "output_type": "stream",
          "name": "stderr",
          "text": [
            "Setting `pad_token_id` to `eos_token_id`:50256 for open-end generation.\n"
          ]
        },
        {
          "output_type": "stream",
          "name": "stdout",
          "text": [
            "HAMLET: To be or not to be ike,\n",
            "From the head of France, I'd be the very head of Rome,\n",
            "From the head of Rome.\n",
            "\n",
            "LUCIO:\n",
            "What, then?\n",
            "\n",
            "POLIXENES:\n",
            "Well, if we did say that Pompey had a daughter,\n",
            "That Pompey had a son, that Pompey had a son,\n",
            "That Pompey had a son, that Pompey had a son,\n",
            "That Pompe\n"
          ]
        }
      ]
    },
    {
      "cell_type": "markdown",
      "source": [
        "#### Try it Yourself!\n",
        "Pass the model an input of your choice and watch it go!"
      ],
      "metadata": {
        "id": "oUZcK1L6-7eo"
      }
    },
    {
      "cell_type": "code",
      "source": [
        "INPUT_OF_YOUR_CHOICE = \"HAMLET: To be a goose or not to be \""
      ],
      "metadata": {
        "id": "U-jTZ3RPAZ1E"
      },
      "execution_count": 6,
      "outputs": []
    },
    {
      "cell_type": "code",
      "source": [
        "from transformers import pipeline\n",
        "\n",
        "text_generator = pipeline(\"text-generation\", model=\"federated/transformers-dsc-workshop\", framework=\"pt\")\n",
        "\n",
        "outputs = text_generator(INPUT_OF_YOUR_CHOICE, temperature=0.8, max_length=100)[0]\n",
        "print(outputs[\"generated_text\"])"
      ],
      "metadata": {
        "id": "8TQsFzHVRsV-"
      },
      "execution_count": null,
      "outputs": []
    },
    {
      "cell_type": "markdown",
      "source": [
        "#### Your Turn:\n",
        "Use the code in this notebook to fine-tune other models from [the model section](https://huggingface.co/models?pipeline_tag=text-generation&sort=downloads) on a new dataset of your choice from [the datasets page](https://huggingface.co/datasets):\n",
        "\n"
      ],
      "metadata": {
        "id": "FJdZDG96BYXv"
      }
    },
    {
      "cell_type": "code",
      "source": [],
      "metadata": {
        "id": "gaFvET4sBlGd"
      },
      "execution_count": null,
      "outputs": []
    }
  ]
}
